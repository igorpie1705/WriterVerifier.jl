{
 "cells": [
  {
   "cell_type": "code",
   "execution_count": null,
   "id": "57762bd9",
   "metadata": {},
   "outputs": [
    {
     "data": {
      "text/plain": [
       "evaluate_pair_accuracy (generic function with 1 method)"
      ]
     },
     "metadata": {},
     "output_type": "display_data"
    }
   ],
   "source": [
    "function evaluate_model_accuracy(model, pairs, labels; threshold=0.5)\n",
    "    correct = 0\n",
    "    total = length(pairs)\n",
    "\n",
    "    for (pair, label) in zip(pairs, labels)\n",
    "        pred = test_similarity(model, pair[1], pair[2])\n",
    "        predicted_label = pred > threshold\n",
    "        actual_label = label > 0.5\n",
    "\n",
    "        if predicted_label == actual_label\n",
    "            correct += 1\n",
    "        end\n",
    "    end\n",
    "\n",
    "    accuracy = correct / total\n",
    "    println(\"Accuracy: $(round(accuracy * 100, digits=2))% ($correct / $total correct)\")\n",
    "    return accuracy\n",
    "end\n"
   ]
  },
  {
   "cell_type": "code",
   "execution_count": null,
   "id": "506f2d32",
   "metadata": {},
   "outputs": [
    {
     "name": "stdout",
     "output_type": "stream",
     "text": [
      "Loaded 76 writers\n",
      "Creating positive pairs...\n",
      "Creating negative pairs...\n",
      "Created 175 pairs\n",
      "Positive: 77\n",
      "Negative: 98\n",
      "Model loaded: ../models/model.jld2\n",
      "Starting training...\n",
      "Training data: 140\n",
      "Validation data: 35\n",
      "\n",
      "Epoch 1/5\n",
      "Train loss: 0.7036\n",
      "Val loss: 0.6941\n",
      "Val accuracy: 51.4%\n",
      "\n",
      "Epoch 2/5\n",
      "Train loss: 0.6866\n",
      "Val loss: 0.6952\n",
      "Val accuracy: 45.7%\n",
      "\n",
      "Epoch 3/5\n",
      "Train loss: 0.6936\n",
      "Val loss: 0.6961\n",
      "Val accuracy: 25.7%\n",
      "\n",
      "Epoch 4/5\n",
      "Train loss: 0.6927\n",
      "Val loss: 0.6953\n",
      "Val accuracy: 37.1%\n",
      "\n",
      "Epoch 5/5\n",
      "Train loss: 0.6904\n",
      "Val loss: 0.6949\n",
      "Val accuracy: 34.3%\n",
      "\n",
      "Training completed!\n",
      "Accuracy: 54.86% (96 / 175 correct)\n"
     ]
    },
    {
     "data": {
      "text/plain": [
       "0.5485714285714286"
      ]
     },
     "metadata": {},
     "output_type": "display_data"
    }
   ],
   "source": [
    "using WriterVerifier\n",
    "using Statistics\n",
    "using JLD2\n",
    "\n",
    "\n",
    "writers = load_images(\"../data/words\", max_per_writer=5)\n",
    "\n",
    "pairs, labels = create_pairs(writers)\n",
    "\n",
    "model_path = \"../models/model.jld2\"\n",
    "\n",
    "if isfile(model_path)\n",
    "    model = load_model(model_path)\n",
    "else\n",
    "    model = create_model()\n",
    "    trained_model, history = train_model!(model, pairs, labels, \n",
    "                                     epochs=5, \n",
    "                                     batch_size=32, \n",
    "                                     learning_rate=0.0001)\n",
    "end\n",
    "\n",
    "\n",
    "evaluate_model_accuracy(trained_model, pairs, labels)"
   ]
  },
  {
   "cell_type": "code",
   "execution_count": 3,
   "id": "0d1ece70",
   "metadata": {},
   "outputs": [],
   "source": []
  }
 ],
 "metadata": {
  "kernelspec": {
   "display_name": "Julia 1.11.3",
   "language": "julia",
   "name": "julia-1.11"
  },
  "language_info": {
   "file_extension": ".jl",
   "mimetype": "application/julia",
   "name": "julia",
   "version": "1.11.3"
  }
 },
 "nbformat": 4,
 "nbformat_minor": 5
}
