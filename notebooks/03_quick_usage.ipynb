{
 "cells": [
  {
   "cell_type": "code",
   "execution_count": 4,
   "id": "506f2d32",
   "metadata": {},
   "outputs": [
    {
     "name": "stdout",
     "output_type": "stream",
     "text": [
      "Creating positive pairs...\n",
      "Creating negative pairs...\n",
      "Created 152 pairs\n",
      "Positive: 76\n",
      "Negative: 76\n",
      "Model loaded: ../models/model.jld2\n",
      "Same writer\n"
     ]
    }
   ],
   "source": [
    "using WriterVerifier\n",
    "using Statistics\n",
    "using JLD2\n",
    "\n",
    "    \n",
    "writers = load_images(\"../data/words\", max_per_writer=5)\n",
    "\n",
    "pairs, labels = create_pairs(writers)\n",
    "\n",
    "model_path = \"../models/model.jld2\"\n",
    "\n",
    "if isfile(model_path)\n",
    "    model = load_model(model_path)\n",
    "else\n",
    "    model = create_model()\n",
    "    trained_model, history = train_model!(model, pairs, labels, \n",
    "                                     epochs=5, \n",
    "                                     batch_size=32, \n",
    "                                     learning_rate=0.0001)\n",
    "end\n",
    "\n",
    "\n",
    "# Testing on a \"real\" example\n",
    "\n",
    "img1_path = \"../data/my_words/my-01.png\"\n",
    "img2_path = \"../data/my_words/my-02.png\"\n",
    "\n",
    "result = test_similarity(model, img1_path, img2_path) > 0.5 ? \"Same writer\" : \"Different writer\"\n",
    "\n",
    "println(result)"
   ]
  }
 ],
 "metadata": {
  "kernelspec": {
   "display_name": "Julia 1.11.3",
   "language": "julia",
   "name": "julia-1.11"
  },
  "language_info": {
   "file_extension": ".jl",
   "mimetype": "application/julia",
   "name": "julia",
   "version": "1.11.3"
  }
 },
 "nbformat": 4,
 "nbformat_minor": 5
}
