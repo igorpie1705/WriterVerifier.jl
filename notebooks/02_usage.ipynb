{
 "cells": [
  {
   "cell_type": "code",
   "execution_count": 42,
   "id": "b3fe3b3f",
   "metadata": {},
   "outputs": [
    {
     "name": "stderr",
     "output_type": "stream",
     "text": [
      "\u001b[32m\u001b[1m  Activating\u001b[22m\u001b[39m project at `c:\\Users\\igorp\\WriterVerifier`\n"
     ]
    }
   ],
   "source": [
    "using Pkg\n",
    "Pkg.activate(\"..\")\n",
    "\n",
    "# Load module\n",
    "push!(LOAD_PATH, \"../src\")\n",
    "using WriterVerifier\n",
    "\n",
    "using Random\n",
    "Random.seed!(42);"
   ]
  },
  {
   "cell_type": "code",
   "execution_count": 43,
   "id": "912eee9a",
   "metadata": {},
   "outputs": [
    {
     "name": "stdout",
     "output_type": "stream",
     "text": [
      "Loading images...\n",
      "Loaded 76 writers\n",
      "f01: 200 images\n",
      "d01: 200 images\n",
      "g05: 200 images\n",
      "e07: 200 images\n",
      "e02: 200 images\n",
      "a04: 200 images\n",
      "p02: 200 images\n",
      "p06: 200 images\n",
      "r02: 200 images\n",
      "h07: 200 images\n",
      "b04: 200 images\n",
      "k02: 200 images\n",
      "d03: 145 images\n",
      "d06: 200 images\n",
      "c03: 200 images\n",
      "b01: 200 images\n",
      "c04: 200 images\n",
      "f03: 200 images\n",
      "c02: 200 images\n",
      "g06: 200 images\n",
      "l07: 200 images\n",
      "j07: 200 images\n",
      "k04: 200 images\n",
      "e06: 200 images\n",
      "l03: 200 images\n",
      "a03: 200 images\n",
      "r03: 200 images\n",
      "n06: 200 images\n",
      "j04: 200 images\n",
      "r06: 200 images\n",
      "n02: 200 images\n",
      "g03: 200 images\n",
      "k01: 86 images\n",
      "j06: 200 images\n",
      "h04: 200 images\n",
      "m02: 200 images\n",
      "b05: 200 images\n",
      "g02: 200 images\n",
      "k03: 200 images\n",
      "c01: 200 images\n",
      "f02: 200 images\n",
      "p03: 200 images\n",
      "p01: 200 images\n",
      "a05: 200 images\n",
      "d05: 200 images\n",
      "m01: 200 images\n",
      "g04: 200 images\n",
      "h06: 200 images\n",
      "f04: 200 images\n",
      "n01: 200 images\n",
      "j01: 200 images\n",
      "b02: 200 images\n",
      "b03: 200 images\n",
      "l04: 200 images\n",
      "b06: 200 images\n",
      "n04: 200 images\n",
      "e01: 200 images\n",
      "l01: 200 images\n",
      "a02: 200 images\n",
      "a01: 200 images\n",
      "h02: 200 images\n",
      "a06: 200 images\n",
      "k07: 200 images\n",
      "g07: 200 images\n",
      "m03: 200 images\n",
      "f07: 200 images\n",
      "d07: 200 images\n",
      "c06: 200 images\n",
      "g01: 200 images\n",
      "e04: 200 images\n",
      "m06: 200 images\n",
      "n03: 200 images\n",
      "m04: 200 images\n",
      "d04: 200 images\n",
      "h01: 200 images\n",
      "h05: 74 images\n"
     ]
    }
   ],
   "source": [
    "# Load data\n",
    "println(\"Loading images...\")\n",
    "\n",
    "image_folder = \"../data/words\"\n",
    "\n",
    "# Load images\n",
    "writers = load_images(image_folder; max_per_writer=200);"
   ]
  },
  {
   "cell_type": "code",
   "execution_count": null,
   "id": "c2c9074e",
   "metadata": {},
   "outputs": [
    {
     "name": "stdout",
     "output_type": "stream",
     "text": [
      "Creating positive pairs...\n",
      "Creating negative pairs...\n",
      "Created 298 pairs\n",
      "Positive: 149\n",
      "Negative: 149\n"
     ]
    }
   ],
   "source": [
    "# Create pairs\n",
    "pairs, labels = create_pairs(writers; positive=200, negative=200);"
   ]
  },
  {
   "cell_type": "code",
   "execution_count": 45,
   "id": "19054006",
   "metadata": {},
   "outputs": [
    {
     "name": "stdout",
     "output_type": "stream",
     "text": [
      "Model created\n"
     ]
    }
   ],
   "source": [
    "# Create model\n",
    "model = create_model()\n",
    "println(\"Model created\")\n"
   ]
  },
  {
   "cell_type": "code",
   "execution_count": null,
   "id": "5ddf59c2",
   "metadata": {},
   "outputs": [
    {
     "name": "stdout",
     "output_type": "stream",
     "text": [
      "Starting training...\n",
      "Training data: 238\n",
      "Validation data: 60\n",
      "\n",
      "Epoch 1/5\n",
      "Train loss: 0.7094\n",
      "Val loss: 0.695\n",
      "Val accuracy: 50.0%\n",
      "\n",
      "Epoch 2/5\n",
      "Train loss: 0.7101\n",
      "Val loss: 0.6951\n",
      "Val accuracy: 50.0%\n",
      "\n",
      "Epoch 3/5\n",
      "Train loss: 0.7051\n",
      "Val loss: 0.6949\n",
      "Val accuracy: 50.0%\n",
      "\n",
      "Epoch 4/5\n",
      "Train loss: 0.6946\n",
      "Val loss: 0.6949\n",
      "Val accuracy: 50.0%\n",
      "\n",
      "Epoch 5/5\n",
      "Train loss: 0.7076\n",
      "Val loss: 0.6949\n",
      "Val accuracy: 50.0%\n",
      "\n",
      "Training completed!\n",
      "Final accuracy: 50.0%\n"
     ]
    }
   ],
   "source": [
    "# Model training\n",
    "\n",
    "trained_model, history = train_model!(\n",
    "    model, pairs, labels;\n",
    "    epochs=5, \n",
    "    batch_size=8,\n",
    "    learning_rate=0.00001\n",
    ")\n",
    "\n",
    "final_acc = round(history[\"val_acc\"][end] * 100, digits=1)\n",
    "println(\"Final accuracy: $(final_acc)%\")"
   ]
  },
  {
   "cell_type": "code",
   "execution_count": 47,
   "id": "9e648af0",
   "metadata": {},
   "outputs": [
    {
     "name": "stdout",
     "output_type": "stream",
     "text": [
      "a01 and a01\n",
      "Similarity: 0.506\n",
      "Prediction: SAME | Truth: SAME ✓\n",
      "k04 and b02\n",
      "Similarity: 0.513\n",
      "Prediction: SAME | Truth: DIFFERENT X\n",
      "d04 and b06\n",
      "Similarity: 0.513\n",
      "Prediction: SAME | Truth: DIFFERENT X\n",
      "e04 and e04\n",
      "Similarity: 0.511\n",
      "Prediction: SAME | Truth: SAME ✓\n",
      "g04 and c01\n",
      "Similarity: 0.524\n",
      "Prediction: SAME | Truth: DIFFERENT X\n",
      "b02 and b02\n",
      "Similarity: 0.518\n",
      "Prediction: SAME | Truth: SAME ✓\n"
     ]
    }
   ],
   "source": [
    "# Testing on real examples\n",
    "\n",
    "# Select random test examples\n",
    "idx = randperm(length(pairs))[1:min(6, length(pairs))]\n",
    "test_pairs = pairs[idx]\n",
    "test_labels = labels[idx]\n",
    "\n",
    "for i in 1:length(test_pairs)\n",
    "    path1, path2 = test_pairs[i]\n",
    "    true_label = test_labels[i]\n",
    "    \n",
    "    # Extract writer names\n",
    "    writer1 = split(basename(path1), \"-\")[1]\n",
    "    writer2 = split(basename(path2), \"-\")[1]\n",
    "    \n",
    "    # Test similarity\n",
    "    similarity = test_similarity(trained_model, path1, path2)\n",
    "    \n",
    "    # Interpret results\n",
    "    prediction = similarity > 0.5 ? \"SAME\" : \"DIFFERENT\"\n",
    "    truth = true_label == 1 ? \"SAME\" : \"DIFFERENT\"\n",
    "    correct = (similarity > 0.5) == (true_label == 1) ? \"✓\" : \"X\"\n",
    "    \n",
    "    println(\"$writer1 and $writer2\")\n",
    "    println(\"Similarity: $(round(similarity, digits=3))\")\n",
    "    println(\"Prediction: $prediction | Truth: $truth $correct\")\n",
    "end\n"
   ]
  },
  {
   "cell_type": "code",
   "execution_count": 48,
   "id": "ba2494ec",
   "metadata": {},
   "outputs": [
    {
     "name": "stdout",
     "output_type": "stream",
     "text": [
      "Model saved: ../models/model.jld2\n"
     ]
    }
   ],
   "source": [
    "# Model saving\n",
    "try\n",
    "    if !isdir(\"../models\")\n",
    "        mkdir(\"../models\")\n",
    "    end\n",
    "    \n",
    "    save_model(trained_model, \"../models/model.jld2\")\n",
    "    \n",
    "catch e\n",
    "    println(\"Save error: $e\")\n",
    "end"
   ]
  }
 ],
 "metadata": {
  "kernelspec": {
   "display_name": "Julia 1.11.3",
   "language": "julia",
   "name": "julia-1.11"
  },
  "language_info": {
   "file_extension": ".jl",
   "mimetype": "application/julia",
   "name": "julia",
   "version": "1.11.3"
  }
 },
 "nbformat": 4,
 "nbformat_minor": 5
}
