{
 "cells": [
  {
   "cell_type": "code",
   "execution_count": 3,
   "id": "b3fe3b3f",
   "metadata": {},
   "outputs": [
    {
     "name": "stderr",
     "output_type": "stream",
     "text": [
      "\u001b[32m\u001b[1m  Activating\u001b[22m\u001b[39m project at `c:\\Users\\igorp\\WriterVerifier`\n"
     ]
    }
   ],
   "source": [
    "using Pkg\n",
    "Pkg.activate(\"..\")\n",
    "\n",
    "# Load module\n",
    "push!(LOAD_PATH, \"../src\")\n",
    "using WriterVerifier\n",
    "\n",
    "using Random\n",
    "Random.seed!(42);"
   ]
  },
  {
   "cell_type": "code",
   "execution_count": 8,
   "id": "912eee9a",
   "metadata": {},
   "outputs": [
    {
     "name": "stdout",
     "output_type": "stream",
     "text": [
      "Loading images...\n",
      "Loaded 76 writers\n",
      "f01: 100 images\n",
      "d01: 100 images\n",
      "g05: 100 images\n",
      "e07: 100 images\n",
      "e02: 100 images\n",
      "a04: 100 images\n",
      "p02: 100 images\n",
      "p06: 100 images\n",
      "r02: 100 images\n",
      "h07: 100 images\n",
      "b04: 100 images\n",
      "k02: 100 images\n",
      "d03: 100 images\n",
      "d06: 100 images\n",
      "c03: 100 images\n",
      "b01: 100 images\n",
      "c04: 100 images\n",
      "f03: 100 images\n",
      "c02: 100 images\n",
      "g06: 100 images\n",
      "l07: 100 images\n",
      "j07: 100 images\n",
      "k04: 100 images\n",
      "e06: 100 images\n",
      "l03: 100 images\n",
      "a03: 100 images\n",
      "r03: 100 images\n",
      "n06: 100 images\n",
      "j04: 100 images\n",
      "r06: 100 images\n",
      "n02: 100 images\n",
      "g03: 100 images\n",
      "k01: 86 images\n",
      "j06: 100 images\n",
      "h04: 100 images\n",
      "m02: 100 images\n",
      "b05: 100 images\n",
      "g02: 100 images\n",
      "k03: 100 images\n",
      "c01: 100 images\n",
      "f02: 100 images\n",
      "p03: 100 images\n",
      "p01: 100 images\n",
      "a05: 100 images\n",
      "d05: 100 images\n",
      "m01: 100 images\n",
      "g04: 100 images\n",
      "h06: 100 images\n",
      "f04: 100 images\n",
      "n01: 100 images\n",
      "j01: 100 images\n",
      "b02: 100 images\n",
      "b03: 100 images\n",
      "l04: 100 images\n",
      "b06: 100 images\n",
      "n04: 100 images\n",
      "e01: 100 images\n",
      "l01: 100 images\n",
      "a02: 100 images\n",
      "a01: 100 images\n",
      "h02: 100 images\n",
      "a06: 100 images\n",
      "k07: 100 images\n",
      "g07: 100 images\n",
      "m03: 100 images\n",
      "f07: 100 images\n",
      "d07: 100 images\n",
      "c06: 100 images\n",
      "g01: 100 images\n",
      "e04: 100 images\n",
      "m06: 100 images\n",
      "n03: 100 images\n",
      "m04: 100 images\n",
      "d04: 100 images\n",
      "h01: 100 images\n",
      "h05: 74 images\n"
     ]
    }
   ],
   "source": [
    "# Load data\n",
    "println(\"Loading images...\")\n",
    "\n",
    "image_folder = \"../data/words\"\n",
    "\n",
    "# Load images\n",
    "writers = load_images(image_folder; max_per_writer=100);"
   ]
  },
  {
   "cell_type": "code",
   "execution_count": null,
   "id": "c2c9074e",
   "metadata": {},
   "outputs": [
    {
     "name": "stdout",
     "output_type": "stream",
     "text": [
      "Creating positive pairs...\n",
      "Creating negative pairs...\n",
      "Created 99 pairs\n",
      "Positive: 49\n",
      "Negative: 50\n"
     ]
    }
   ],
   "source": [
    "# Create pairs\n",
    "pairs, labels = create_pairs(writers; positive=100, negative=100);"
   ]
  },
  {
   "cell_type": "code",
   "execution_count": 10,
   "id": "19054006",
   "metadata": {},
   "outputs": [
    {
     "name": "stdout",
     "output_type": "stream",
     "text": [
      "Model created\n"
     ]
    }
   ],
   "source": [
    "# Create model\n",
    "model = create_model()\n",
    "println(\"Model created\")\n"
   ]
  },
  {
   "cell_type": "code",
   "execution_count": null,
   "id": "5ddf59c2",
   "metadata": {},
   "outputs": [
    {
     "name": "stdout",
     "output_type": "stream",
     "text": [
      "Starting training...\n",
      "Training data: 79\n",
      "Validation data: 20\n",
      "\n",
      "Epoch 1/5\n",
      "Train loss: 0.6923\n",
      "Val loss: 0.6924\n",
      "Val accuracy: 55.0%\n",
      "\n",
      "Epoch 2/5\n",
      "Train loss: 0.6916\n",
      "Val loss: 0.6926\n",
      "Val accuracy: 55.0%\n",
      "\n",
      "Epoch 3/5\n",
      "Train loss: 0.6864\n",
      "Val loss: 0.6927\n",
      "Val accuracy: 45.0%\n",
      "\n",
      "Epoch 4/5\n",
      "Train loss: 0.696\n",
      "Val loss: 0.6928\n",
      "Val accuracy: 40.0%\n",
      "\n",
      "Epoch 5/5\n",
      "Train loss: 0.7022\n",
      "Val loss: 0.6924\n",
      "Val accuracy: 50.0%\n",
      "\n",
      "Training completed!\n",
      "Final accuracy: 50.0%\n"
     ]
    }
   ],
   "source": [
    "# Model training\n",
    "\n",
    "trained_model, history = train_model!(\n",
    "    model, pairs, labels;\n",
    "    epochs=5, \n",
    "    batch_size=8,\n",
    "    learning_rate=0.00001\n",
    ")\n",
    "\n",
    "final_acc = round(history[\"val_acc\"][end] * 100, digits=1)\n",
    "println(\"Final accuracy: $(final_acc)%\")"
   ]
  },
  {
   "cell_type": "code",
   "execution_count": null,
   "id": "9e648af0",
   "metadata": {},
   "outputs": [],
   "source": [
    "# Testing on real examples\n",
    "\n",
    "# Select random test examples\n",
    "idx = randperm(length(pairs))[1:min(6, length(pairs))]\n",
    "test_pairs = pairs[idx]\n",
    "test_labels = labels[idx]\n",
    "\n",
    "for i in 1:length(test_pairs)\n",
    "    path1, path2 = test_pairs[i]\n",
    "    true_label = test_labels[i]\n",
    "    \n",
    "    # Extract writer names\n",
    "    writer1 = split(basename(path1), \"-\")[1]\n",
    "    writer2 = split(basename(path2), \"-\")[1]\n",
    "    \n",
    "    # Test similarity\n",
    "    similarity = test_similarity(trained_model, path1, path2)\n",
    "    \n",
    "    # Interpret results\n",
    "    prediction = similarity > 0.5 ? \"SAME\" : \"DIFFERENT\"\n",
    "    truth = true_label == 1 ? \"SAME\" : \"DIFFERENT\"\n",
    "    correct = (similarity > 0.5) == (true_label == 1) ? \"✓\" : \"X\"\n",
    "    \n",
    "    println(\"$i. $writer1 and $writer2\")\n",
    "    println(\"   Similarity: $(round(similarity, digits=3))\")\n",
    "    println(\"   Prediction: $prediction | Truth: $truth $correct\")\n",
    "end\n"
   ]
  },
  {
   "cell_type": "code",
   "execution_count": null,
   "id": "ba2494ec",
   "metadata": {},
   "outputs": [],
   "source": [
    "# Model saving\n",
    "try\n",
    "    if !isdir(\"../models\")\n",
    "        mkdir(\"../models\")\n",
    "    end\n",
    "    \n",
    "    save_model(trained_model, \"../models/model.jld2\")\n",
    "    \n",
    "catch e\n",
    "    println(\"Save error: $e\")\n",
    "end"
   ]
  },
  {
   "cell_type": "code",
   "execution_count": null,
   "id": "708786ae",
   "metadata": {},
   "outputs": [],
   "source": [
    "# Load my data\n",
    "println(\"Loading images...\")\n",
    "\n",
    "image_folder = \"../data/my_words\"\n",
    "\n",
    "# Load images\n",
    "writers = load_images(image_folder; max_per_writer=10000);"
   ]
  },
  {
   "cell_type": "code",
   "execution_count": null,
   "id": "eff041c0",
   "metadata": {},
   "outputs": [],
   "source": [
    "model = load_model(\"../models/model.jld2\")"
   ]
  },
  {
   "cell_type": "code",
   "execution_count": null,
   "id": "016c99f5",
   "metadata": {},
   "outputs": [],
   "source": [
    "pairs, labels = create_pairs(writers, positive=4, negative=4)"
   ]
  },
  {
   "cell_type": "code",
   "execution_count": null,
   "id": "7abe90b1",
   "metadata": {},
   "outputs": [],
   "source": [
    "for i in 1:length(pairs)\n",
    "    true_label = labels[i]\n",
    "    path1, path2 = pairs[i]\n",
    "\n",
    "    # Extract writer names\n",
    "    writer1 = split(basename(path1), \"-\")[1]\n",
    "    writer2 = split(basename(path2), \"-\")[1]\n",
    "\n",
    "    similarity = test_similarity(model, path1, path2)\n",
    "\n",
    "\n",
    "    # Interpret results\n",
    "    prediction = similarity > 0.5 ? \"SAME\" : \"DIFFERENT\"\n",
    "    truth = true_label == 1 ? \"SAME\" : \"DIFFERENT\"\n",
    "    correct = (similarity > 0.5) == (true_label == 1) ? \"✓\" : \"X\"\n",
    "\n",
    "    println(\"$i. $writer1 and $writer2\")\n",
    "    println(\"   Similarity: $(round(similarity, digits=3))\")\n",
    "    println(\"   Prediction: $prediction | Truth: $truth $correct\")\n",
    "end"
   ]
  },
  {
   "cell_type": "code",
   "execution_count": null,
   "id": "62133cd1",
   "metadata": {},
   "outputs": [],
   "source": []
  }
 ],
 "metadata": {
  "kernelspec": {
   "display_name": "Julia 1.11.3",
   "language": "julia",
   "name": "julia-1.11"
  },
  "language_info": {
   "file_extension": ".jl",
   "mimetype": "application/julia",
   "name": "julia",
   "version": "1.11.3"
  }
 },
 "nbformat": 4,
 "nbformat_minor": 5
}
