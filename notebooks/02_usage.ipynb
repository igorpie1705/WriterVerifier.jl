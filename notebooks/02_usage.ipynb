{
 "cells": [
  {
   "cell_type": "code",
   "execution_count": 8,
   "id": "b3fe3b3f",
   "metadata": {},
   "outputs": [
    {
     "name": "stderr",
     "output_type": "stream",
     "text": [
      "\u001b[32m\u001b[1m  Activating\u001b[22m\u001b[39m project at `c:\\Users\\igorp\\WriterVerifier`\n"
     ]
    }
   ],
   "source": [
    "using Pkg\n",
    "Pkg.activate(\"..\")\n",
    "\n",
    "# Load module\n",
    "push!(LOAD_PATH, \"../src\")\n",
    "using WriterVerifier\n",
    "\n",
    "using Random\n",
    "Random.seed!(42);"
   ]
  },
  {
   "cell_type": "code",
   "execution_count": 2,
   "id": "912eee9a",
   "metadata": {},
   "outputs": [
    {
     "name": "stdout",
     "output_type": "stream",
     "text": [
      "Loading images...\n",
      "Loaded 76 writers\n",
      "f01: 857 images\n",
      "d01: 960 images\n",
      "g05: 225 images\n",
      "e07: 1371 images\n",
      "e02: 877 images\n",
      "a04: 1918 images\n",
      "p02: 1578 images\n",
      "p06: 775 images\n",
      "r02: 1359 images\n",
      "h07: 3017 images\n",
      "b04: 2196 images\n",
      "k02: 971 images\n",
      "d03: 145 images\n",
      "d06: 2116 images\n",
      "c03: 4435 images\n",
      "b01: 1832 images\n",
      "c04: 2320 images\n",
      "f03: 291 images\n",
      "c02: 1141 images\n",
      "g06: 10000 images\n",
      "l07: 1151 images\n",
      "j07: 344 images\n",
      "k04: 2429 images\n",
      "e06: 1140 images\n",
      "l03: 205 images\n",
      "a03: 1652 images\n",
      "r03: 1123 images\n",
      "n06: 1593 images\n",
      "j04: 1332 images\n",
      "r06: 2111 images\n",
      "n02: 1790 images\n",
      "g03: 725 images\n",
      "k01: 86 images\n",
      "j06: 740 images\n",
      "h04: 1252 images\n",
      "m02: 1379 images\n",
      "b05: 1182 images\n",
      "g02: 299 images\n",
      "k03: 520 images\n",
      "c01: 249 images\n",
      "f02: 864 images\n",
      "p03: 2173 images\n",
      "p01: 337 images\n",
      "a05: 1943 images\n",
      "d05: 456 images\n",
      "m01: 1663 images\n",
      "g04: 2059 images\n",
      "h06: 613 images\n",
      "f04: 2060 images\n",
      "n01: 687 images\n",
      "j01: 514 images\n",
      "b02: 430 images\n",
      "b03: 519 images\n",
      "l04: 2331 images\n",
      "b06: 1996 images\n",
      "n04: 2377 images\n",
      "e01: 1284 images\n",
      "l01: 1610 images\n",
      "a02: 2146 images\n",
      "a01: 4825 images\n",
      "h02: 974 images\n",
      "a06: 1882 images\n",
      "k07: 1093 images\n",
      "g07: 2387 images\n",
      "m03: 648 images\n",
      "f07: 2793 images\n",
      "d07: 537 images\n",
      "c06: 1797 images\n",
      "g01: 1532 images\n",
      "e04: 1994 images\n",
      "m06: 875 images\n",
      "n03: 867 images\n",
      "m04: 2449 images\n",
      "d04: 2068 images\n",
      "h01: 663 images\n",
      "h05: 74 images\n"
     ]
    }
   ],
   "source": [
    "# Load data\n",
    "println(\"Loading images...\")\n",
    "\n",
    "image_folder = \"../data/words\"\n",
    "\n",
    "# Load images\n",
    "writers = load_images(image_folder; max_per_writer=10000);"
   ]
  },
  {
   "cell_type": "code",
   "execution_count": 3,
   "id": "c2c9074e",
   "metadata": {},
   "outputs": [
    {
     "name": "stdout",
     "output_type": "stream",
     "text": [
      "Creating positive pairs...\n",
      "Creating negative pairs...\n",
      "Created 100 pairs\n",
      "Positive: 50\n",
      "Negative: 50\n"
     ]
    }
   ],
   "source": [
    "# Create pairs\n",
    "pairs, labels = create_pairs(writers; positive=50, negative=50);"
   ]
  },
  {
   "cell_type": "code",
   "execution_count": null,
   "id": "19054006",
   "metadata": {},
   "outputs": [
    {
     "name": "stdout",
     "output_type": "stream",
     "text": [
      "Model created\n",
      "Testing model...\n",
      "Output shape: (2,)\n",
      "Values: Float32[0.508, 0.499]\n",
      "Range: [0.499, 0.508]\n",
      "Loss: 0.6841\n"
     ]
    }
   ],
   "source": [
    "# Create model\n",
    "model = create_model()\n",
    "println(\"Model created\")\n",
    "\n",
    "# Test model\n",
    "test_model(model);\n"
   ]
  },
  {
   "cell_type": "code",
   "execution_count": 5,
   "id": "5ddf59c2",
   "metadata": {},
   "outputs": [
    {
     "name": "stdout",
     "output_type": "stream",
     "text": [
      "Starting training...\n",
      "Training data: 80\n",
      "Validation data: 20\n",
      "\n",
      "Epoch 1/5\n",
      "Train loss: 0.6973\n",
      "Val loss: 0.6959\n",
      "Val accuracy: 35.0%\n",
      "\n",
      "Epoch 2/5\n",
      "Train loss: 0.6989\n",
      "Val loss: 0.695\n",
      "Val accuracy: 45.0%\n",
      "\n",
      "Epoch 3/5\n",
      "Train loss: 0.7096\n",
      "Val loss: 0.6957\n",
      "Val accuracy: 30.0%\n",
      "\n",
      "Epoch 4/5\n",
      "Train loss: 0.6993\n",
      "Val loss: 0.6967\n",
      "Val accuracy: 40.0%\n",
      "\n",
      "Epoch 5/5\n",
      "Train loss: 0.6928\n",
      "Val loss: 0.696\n",
      "Val accuracy: 50.0%\n",
      "\n",
      "Training completed!\n",
      "Training completed\n",
      "Final accuracy: 50.0%\n"
     ]
    }
   ],
   "source": [
    "# Model training\n",
    "\n",
    "trained_model, history = train_model!(\n",
    "    model, pairs, labels;\n",
    "    epochs=5, \n",
    "    batch_size=200,\n",
    "    learning_rate=0.001\n",
    ")\n",
    "\n",
    "println(\"Training completed\")\n",
    "\n",
    "# Show final results\n",
    "final_acc = round(history[\"val_acc\"][end] * 100, digits=1)\n",
    "println(\"Final accuracy: $(final_acc)%\")"
   ]
  },
  {
   "cell_type": "code",
   "execution_count": 21,
   "id": "9e648af0",
   "metadata": {},
   "outputs": [
    {
     "name": "stdout",
     "output_type": "stream",
     "text": [
      "1. m04 vs f07\n",
      "   Similarity: 0.505\n",
      "   Prediction: SAME | Truth: DIFFERENT X\n",
      "\n",
      "2. d04 vs d04\n",
      "   Similarity: 0.503\n",
      "   Prediction: SAME | Truth: SAME ✓\n",
      "\n",
      "3. b03 vs b03\n",
      "   Similarity: 0.504\n",
      "   Prediction: SAME | Truth: SAME ✓\n",
      "\n",
      "4. n03 vs d01\n",
      "   Similarity: 0.506\n",
      "   Prediction: SAME | Truth: DIFFERENT X\n",
      "\n",
      "5. k07 vs k07\n",
      "   Similarity: 0.503\n",
      "   Prediction: SAME | Truth: SAME ✓\n",
      "\n",
      "6. f04 vs e01\n",
      "   Similarity: 0.508\n",
      "   Prediction: SAME | Truth: DIFFERENT X\n",
      "\n"
     ]
    }
   ],
   "source": [
    "# Testing on real examples\n",
    "\n",
    "# Select random test examples\n",
    "idx = randperm(length(pairs))[1:min(6, length(pairs))]\n",
    "test_pairs = pairs[idx]\n",
    "test_labels = labels[idx]\n",
    "\n",
    "for i in 1:length(test_pairs)\n",
    "    path1, path2 = test_pairs[i]\n",
    "    true_label = test_labels[i]\n",
    "    \n",
    "    # Extract writer names\n",
    "    writer1 = split(basename(path1), \"-\")[1]\n",
    "    writer2 = split(basename(path2), \"-\")[1]\n",
    "    \n",
    "    # Test similarity\n",
    "    similarity = test_similarity(trained_model, path1, path2)\n",
    "    \n",
    "    # Interpret results\n",
    "    prediction = similarity > 0.5 ? \"SAME\" : \"DIFFERENT\"\n",
    "    truth = true_label == 1 ? \"SAME\" : \"DIFFERENT\"\n",
    "    correct = (similarity > 0.5) == (true_label == 1) ? \"✓\" : \"X\"\n",
    "    \n",
    "    println(\"$i. $writer1 vs $writer2\")\n",
    "    println(\"   Similarity: $(round(similarity, digits=3))\")\n",
    "    println(\"   Prediction: $prediction | Truth: $truth $correct\")\n",
    "    println()\n",
    "end\n"
   ]
  },
  {
   "cell_type": "code",
   "execution_count": 7,
   "id": "ba2494ec",
   "metadata": {},
   "outputs": [
    {
     "name": "stdout",
     "output_type": "stream",
     "text": [
      "Model saved: ../models/model.jld2\n"
     ]
    }
   ],
   "source": [
    "# Model saving\n",
    "try\n",
    "    if !isdir(\"../models\")\n",
    "        mkdir(\"../models\")\n",
    "    end\n",
    "    \n",
    "    save_model(trained_model, \"../models/model.jld2\")\n",
    "    \n",
    "catch e\n",
    "    println(\"Save error: $e\")\n",
    "end"
   ]
  }
 ],
 "metadata": {
  "kernelspec": {
   "display_name": "Julia 1.11.3",
   "language": "julia",
   "name": "julia-1.11"
  },
  "language_info": {
   "file_extension": ".jl",
   "mimetype": "application/julia",
   "name": "julia",
   "version": "1.11.3"
  }
 },
 "nbformat": 4,
 "nbformat_minor": 5
}
