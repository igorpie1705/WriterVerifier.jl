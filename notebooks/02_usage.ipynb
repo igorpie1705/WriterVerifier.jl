{
 "cells": [
  {
   "cell_type": "code",
   "execution_count": 1,
   "id": "b3fe3b3f",
   "metadata": {},
   "outputs": [],
   "source": [
    "using WriterVerifier\n",
    "\n",
    "using Random\n",
    "Random.seed!(42);"
   ]
  },
  {
   "cell_type": "code",
   "execution_count": 2,
   "id": "912eee9a",
   "metadata": {},
   "outputs": [
    {
     "name": "stdout",
     "output_type": "stream",
     "text": [
      "Loading images...\n",
      "Images loaded\n"
     ]
    }
   ],
   "source": [
    "# Load data\n",
    "println(\"Loading images...\")\n",
    "\n",
    "image_folder = \"../data/words\"\n",
    "\n",
    "# Load images\n",
    "writers = load_images(image_folder; max_per_writer=300);\n",
    "\n",
    "println(\"Images loaded\")"
   ]
  },
  {
   "cell_type": "code",
   "execution_count": 3,
   "id": "c2c9074e",
   "metadata": {},
   "outputs": [
    {
     "name": "stdout",
     "output_type": "stream",
     "text": [
      "Creating positive pairs...\n",
      "Creating negative pairs...\n",
      "Created 398 pairs\n",
      "Positive: 199\n",
      "Negative: 199\n"
     ]
    }
   ],
   "source": [
    "# Create pairs\n",
    "pairs, labels = create_pairs(writers; positive=200, negative=200);"
   ]
  },
  {
   "cell_type": "code",
   "execution_count": 4,
   "id": "19054006",
   "metadata": {},
   "outputs": [
    {
     "name": "stdout",
     "output_type": "stream",
     "text": [
      "Model created\n"
     ]
    }
   ],
   "source": [
    "# Create model\n",
    "model = create_model()\n",
    "println(\"Model created\")\n"
   ]
  },
  {
   "cell_type": "code",
   "execution_count": 9,
   "id": "5ddf59c2",
   "metadata": {},
   "outputs": [
    {
     "name": "stdout",
     "output_type": "stream",
     "text": [
      "Starting training...\n",
      "Training data: 318\n",
      "Validation data: 80\n",
      "\n",
      "Epoch 1/5\n",
      "Train loss: 0.6915\n",
      "Val loss: 0.6932\n",
      "Val accuracy: 48.8%\n",
      "\n",
      "Epoch 2/5\n",
      "Train loss: 0.6916\n",
      "Val loss: 0.6923\n",
      "Val accuracy: 52.5%\n",
      "\n",
      "Epoch 3/5\n",
      "Train loss: 0.6918\n",
      "Val loss: 0.6933\n",
      "Val accuracy: 43.8%\n",
      "\n",
      "Epoch 4/5\n",
      "Train loss: 0.6978\n",
      "Val loss: 0.6918\n",
      "Val accuracy: 53.8%\n",
      "\n",
      "Epoch 5/5\n",
      "Train loss: 0.6986\n",
      "Val loss: 0.692\n",
      "Val accuracy: 50.0%\n",
      "\n",
      "Training completed!\n",
      "Final accuracy: 50.0%\n"
     ]
    }
   ],
   "source": [
    "# Model training\n",
    "\n",
    "trained_model, history = train_model!(\n",
    "    model, pairs, labels;\n",
    "    epochs=5, \n",
    "    batch_size=32,\n",
    "    learning_rate=0.0001\n",
    ")\n",
    "\n",
    "final_acc = round(history[\"val_acc\"][end] * 100, digits=1)\n",
    "println(\"Final accuracy: $(final_acc)%\")"
   ]
  },
  {
   "cell_type": "code",
   "execution_count": 6,
   "id": "9e648af0",
   "metadata": {},
   "outputs": [
    {
     "name": "stdout",
     "output_type": "stream",
     "text": [
      "a01 and a01\n",
      "Similarity: 0.506\n",
      "Prediction: SAME | Truth: SAME ✓\n",
      "a02 and a02\n",
      "Similarity: 0.498\n",
      "Prediction: DIFFERENT | Truth: SAME X\n",
      "a05 and a05\n",
      "Similarity: 0.497\n",
      "Prediction: DIFFERENT | Truth: SAME X\n",
      "a04 and a05\n",
      "Similarity: 0.499\n",
      "Prediction: DIFFERENT | Truth: DIFFERENT ✓\n",
      "a02 and a01\n",
      "Similarity: 0.5\n",
      "Prediction: DIFFERENT | Truth: DIFFERENT ✓\n",
      "a01 and a05\n",
      "Similarity: 0.5\n",
      "Prediction: DIFFERENT | Truth: DIFFERENT ✓\n"
     ]
    }
   ],
   "source": [
    "# Testing on real examples\n",
    "\n",
    "# Select random test examples\n",
    "idx = randperm(length(pairs))[1:min(6, length(pairs))]\n",
    "test_pairs = pairs[idx]\n",
    "test_labels = labels[idx]\n",
    "\n",
    "for i in 1:length(test_pairs)\n",
    "    path1, path2 = test_pairs[i]\n",
    "    true_label = test_labels[i]\n",
    "    \n",
    "    # Extract writer names\n",
    "    writer1 = split(basename(path1), \"-\")[1]\n",
    "    writer2 = split(basename(path2), \"-\")[1]\n",
    "    \n",
    "    # Test similarity\n",
    "    similarity = test_similarity(trained_model, path1, path2)\n",
    "    \n",
    "    # Interpret results\n",
    "    prediction = similarity > 0.5 ? \"SAME\" : \"DIFFERENT\"\n",
    "    truth = true_label == 1 ? \"SAME\" : \"DIFFERENT\"\n",
    "    correct = (similarity > 0.5) == (true_label == 1) ? \"✓\" : \"X\"\n",
    "    \n",
    "    println(\"$writer1 and $writer2\")\n",
    "    println(\"Similarity: $(round(similarity, digits=3))\")\n",
    "    println(\"Prediction: $prediction | Truth: $truth $correct\")\n",
    "end\n"
   ]
  },
  {
   "cell_type": "code",
   "execution_count": 7,
   "id": "ba2494ec",
   "metadata": {},
   "outputs": [
    {
     "name": "stdout",
     "output_type": "stream",
     "text": [
      "Model saved: ../models/model.jld2\n"
     ]
    }
   ],
   "source": [
    "# Model saving\n",
    "try\n",
    "    if !isdir(\"../models\")\n",
    "        mkdir(\"../models\")\n",
    "    end\n",
    "    \n",
    "    save_model(trained_model, \"../models/model.jld2\")\n",
    "    \n",
    "catch e\n",
    "    println(\"Save error: $e\")\n",
    "end"
   ]
  }
 ],
 "metadata": {
  "kernelspec": {
   "display_name": "Julia 1.11.3",
   "language": "julia",
   "name": "julia-1.11"
  },
  "language_info": {
   "file_extension": ".jl",
   "mimetype": "application/julia",
   "name": "julia",
   "version": "1.11.3"
  }
 },
 "nbformat": 4,
 "nbformat_minor": 5
}
